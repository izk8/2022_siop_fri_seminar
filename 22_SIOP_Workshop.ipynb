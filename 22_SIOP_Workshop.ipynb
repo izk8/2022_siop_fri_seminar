{
  "nbformat": 4,
  "nbformat_minor": 0,
  "metadata": {
    "colab": {
      "name": "22_SIOP_Workshop.ipynb",
      "provenance": [],
      "collapsed_sections": [],
      "machine_shape": "hm",
      "mount_file_id": "1YqwfUC8XQNaTRjNvjM3eZq_USMI_K0uj",
      "authorship_tag": "ABX9TyNM0g6CvyKiFH5mUoeLmuzF",
      "include_colab_link": true
    },
    "kernelspec": {
      "name": "python3",
      "display_name": "Python 3"
    },
    "language_info": {
      "name": "python"
    },
    "accelerator": "GPU",
    "widgets": {
      "application/vnd.jupyter.widget-state+json": {
        "42049395187342679e3bdb8b322b8f1b": {
          "model_module": "@jupyter-widgets/controls",
          "model_name": "HBoxModel",
          "model_module_version": "1.5.0",
          "state": {
            "_dom_classes": [],
            "_model_module": "@jupyter-widgets/controls",
            "_model_module_version": "1.5.0",
            "_model_name": "HBoxModel",
            "_view_count": null,
            "_view_module": "@jupyter-widgets/controls",
            "_view_module_version": "1.5.0",
            "_view_name": "HBoxView",
            "box_style": "",
            "children": [
              "IPY_MODEL_38f22e694f244a699becef8e35191d19",
              "IPY_MODEL_6787250f1fc442f0846a027df78e3946",
              "IPY_MODEL_ec24ae39d57c492c9d66f2fad0d4d0f2"
            ],
            "layout": "IPY_MODEL_9f3adac1bd044235a923fb76793a34d0"
          }
        },
        "38f22e694f244a699becef8e35191d19": {
          "model_module": "@jupyter-widgets/controls",
          "model_name": "HTMLModel",
          "model_module_version": "1.5.0",
          "state": {
            "_dom_classes": [],
            "_model_module": "@jupyter-widgets/controls",
            "_model_module_version": "1.5.0",
            "_model_name": "HTMLModel",
            "_view_count": null,
            "_view_module": "@jupyter-widgets/controls",
            "_view_module_version": "1.5.0",
            "_view_name": "HTMLView",
            "description": "",
            "description_tooltip": null,
            "layout": "IPY_MODEL_e30384a7d6d941078637df0d9115fe48",
            "placeholder": "​",
            "style": "IPY_MODEL_d8561824525c42d28e9173b3db305ed8",
            "value": "Batches: 100%"
          }
        },
        "6787250f1fc442f0846a027df78e3946": {
          "model_module": "@jupyter-widgets/controls",
          "model_name": "FloatProgressModel",
          "model_module_version": "1.5.0",
          "state": {
            "_dom_classes": [],
            "_model_module": "@jupyter-widgets/controls",
            "_model_module_version": "1.5.0",
            "_model_name": "FloatProgressModel",
            "_view_count": null,
            "_view_module": "@jupyter-widgets/controls",
            "_view_module_version": "1.5.0",
            "_view_name": "ProgressView",
            "bar_style": "success",
            "description": "",
            "description_tooltip": null,
            "layout": "IPY_MODEL_7031dc8ec0c94c689a45eec646d3f1ba",
            "max": 313,
            "min": 0,
            "orientation": "horizontal",
            "style": "IPY_MODEL_24768c3d3a35458485bf54caf8a0e1ee",
            "value": 313
          }
        },
        "ec24ae39d57c492c9d66f2fad0d4d0f2": {
          "model_module": "@jupyter-widgets/controls",
          "model_name": "HTMLModel",
          "model_module_version": "1.5.0",
          "state": {
            "_dom_classes": [],
            "_model_module": "@jupyter-widgets/controls",
            "_model_module_version": "1.5.0",
            "_model_name": "HTMLModel",
            "_view_count": null,
            "_view_module": "@jupyter-widgets/controls",
            "_view_module_version": "1.5.0",
            "_view_name": "HTMLView",
            "description": "",
            "description_tooltip": null,
            "layout": "IPY_MODEL_eab1ff1b12a94cb89ba98b514ba8a84a",
            "placeholder": "​",
            "style": "IPY_MODEL_24720c1651ff4f7bb2cfa1adf66e44dd",
            "value": " 313/313 [00:01&lt;00:00, 198.18it/s]"
          }
        },
        "9f3adac1bd044235a923fb76793a34d0": {
          "model_module": "@jupyter-widgets/base",
          "model_name": "LayoutModel",
          "model_module_version": "1.2.0",
          "state": {
            "_model_module": "@jupyter-widgets/base",
            "_model_module_version": "1.2.0",
            "_model_name": "LayoutModel",
            "_view_count": null,
            "_view_module": "@jupyter-widgets/base",
            "_view_module_version": "1.2.0",
            "_view_name": "LayoutView",
            "align_content": null,
            "align_items": null,
            "align_self": null,
            "border": null,
            "bottom": null,
            "display": null,
            "flex": null,
            "flex_flow": null,
            "grid_area": null,
            "grid_auto_columns": null,
            "grid_auto_flow": null,
            "grid_auto_rows": null,
            "grid_column": null,
            "grid_gap": null,
            "grid_row": null,
            "grid_template_areas": null,
            "grid_template_columns": null,
            "grid_template_rows": null,
            "height": null,
            "justify_content": null,
            "justify_items": null,
            "left": null,
            "margin": null,
            "max_height": null,
            "max_width": null,
            "min_height": null,
            "min_width": null,
            "object_fit": null,
            "object_position": null,
            "order": null,
            "overflow": null,
            "overflow_x": null,
            "overflow_y": null,
            "padding": null,
            "right": null,
            "top": null,
            "visibility": null,
            "width": null
          }
        },
        "e30384a7d6d941078637df0d9115fe48": {
          "model_module": "@jupyter-widgets/base",
          "model_name": "LayoutModel",
          "model_module_version": "1.2.0",
          "state": {
            "_model_module": "@jupyter-widgets/base",
            "_model_module_version": "1.2.0",
            "_model_name": "LayoutModel",
            "_view_count": null,
            "_view_module": "@jupyter-widgets/base",
            "_view_module_version": "1.2.0",
            "_view_name": "LayoutView",
            "align_content": null,
            "align_items": null,
            "align_self": null,
            "border": null,
            "bottom": null,
            "display": null,
            "flex": null,
            "flex_flow": null,
            "grid_area": null,
            "grid_auto_columns": null,
            "grid_auto_flow": null,
            "grid_auto_rows": null,
            "grid_column": null,
            "grid_gap": null,
            "grid_row": null,
            "grid_template_areas": null,
            "grid_template_columns": null,
            "grid_template_rows": null,
            "height": null,
            "justify_content": null,
            "justify_items": null,
            "left": null,
            "margin": null,
            "max_height": null,
            "max_width": null,
            "min_height": null,
            "min_width": null,
            "object_fit": null,
            "object_position": null,
            "order": null,
            "overflow": null,
            "overflow_x": null,
            "overflow_y": null,
            "padding": null,
            "right": null,
            "top": null,
            "visibility": null,
            "width": null
          }
        },
        "d8561824525c42d28e9173b3db305ed8": {
          "model_module": "@jupyter-widgets/controls",
          "model_name": "DescriptionStyleModel",
          "model_module_version": "1.5.0",
          "state": {
            "_model_module": "@jupyter-widgets/controls",
            "_model_module_version": "1.5.0",
            "_model_name": "DescriptionStyleModel",
            "_view_count": null,
            "_view_module": "@jupyter-widgets/base",
            "_view_module_version": "1.2.0",
            "_view_name": "StyleView",
            "description_width": ""
          }
        },
        "7031dc8ec0c94c689a45eec646d3f1ba": {
          "model_module": "@jupyter-widgets/base",
          "model_name": "LayoutModel",
          "model_module_version": "1.2.0",
          "state": {
            "_model_module": "@jupyter-widgets/base",
            "_model_module_version": "1.2.0",
            "_model_name": "LayoutModel",
            "_view_count": null,
            "_view_module": "@jupyter-widgets/base",
            "_view_module_version": "1.2.0",
            "_view_name": "LayoutView",
            "align_content": null,
            "align_items": null,
            "align_self": null,
            "border": null,
            "bottom": null,
            "display": null,
            "flex": null,
            "flex_flow": null,
            "grid_area": null,
            "grid_auto_columns": null,
            "grid_auto_flow": null,
            "grid_auto_rows": null,
            "grid_column": null,
            "grid_gap": null,
            "grid_row": null,
            "grid_template_areas": null,
            "grid_template_columns": null,
            "grid_template_rows": null,
            "height": null,
            "justify_content": null,
            "justify_items": null,
            "left": null,
            "margin": null,
            "max_height": null,
            "max_width": null,
            "min_height": null,
            "min_width": null,
            "object_fit": null,
            "object_position": null,
            "order": null,
            "overflow": null,
            "overflow_x": null,
            "overflow_y": null,
            "padding": null,
            "right": null,
            "top": null,
            "visibility": null,
            "width": null
          }
        },
        "24768c3d3a35458485bf54caf8a0e1ee": {
          "model_module": "@jupyter-widgets/controls",
          "model_name": "ProgressStyleModel",
          "model_module_version": "1.5.0",
          "state": {
            "_model_module": "@jupyter-widgets/controls",
            "_model_module_version": "1.5.0",
            "_model_name": "ProgressStyleModel",
            "_view_count": null,
            "_view_module": "@jupyter-widgets/base",
            "_view_module_version": "1.2.0",
            "_view_name": "StyleView",
            "bar_color": null,
            "description_width": ""
          }
        },
        "eab1ff1b12a94cb89ba98b514ba8a84a": {
          "model_module": "@jupyter-widgets/base",
          "model_name": "LayoutModel",
          "model_module_version": "1.2.0",
          "state": {
            "_model_module": "@jupyter-widgets/base",
            "_model_module_version": "1.2.0",
            "_model_name": "LayoutModel",
            "_view_count": null,
            "_view_module": "@jupyter-widgets/base",
            "_view_module_version": "1.2.0",
            "_view_name": "LayoutView",
            "align_content": null,
            "align_items": null,
            "align_self": null,
            "border": null,
            "bottom": null,
            "display": null,
            "flex": null,
            "flex_flow": null,
            "grid_area": null,
            "grid_auto_columns": null,
            "grid_auto_flow": null,
            "grid_auto_rows": null,
            "grid_column": null,
            "grid_gap": null,
            "grid_row": null,
            "grid_template_areas": null,
            "grid_template_columns": null,
            "grid_template_rows": null,
            "height": null,
            "justify_content": null,
            "justify_items": null,
            "left": null,
            "margin": null,
            "max_height": null,
            "max_width": null,
            "min_height": null,
            "min_width": null,
            "object_fit": null,
            "object_position": null,
            "order": null,
            "overflow": null,
            "overflow_x": null,
            "overflow_y": null,
            "padding": null,
            "right": null,
            "top": null,
            "visibility": null,
            "width": null
          }
        },
        "24720c1651ff4f7bb2cfa1adf66e44dd": {
          "model_module": "@jupyter-widgets/controls",
          "model_name": "DescriptionStyleModel",
          "model_module_version": "1.5.0",
          "state": {
            "_model_module": "@jupyter-widgets/controls",
            "_model_module_version": "1.5.0",
            "_model_name": "DescriptionStyleModel",
            "_view_count": null,
            "_view_module": "@jupyter-widgets/base",
            "_view_module_version": "1.2.0",
            "_view_name": "StyleView",
            "description_width": ""
          }
        }
      }
    }
  },
  "cells": [
    {
      "cell_type": "markdown",
      "metadata": {
        "id": "view-in-github",
        "colab_type": "text"
      },
      "source": [
        "<a href=\"https://colab.research.google.com/github/izk8/2022_siop_fri_seminar/blob/main/22_SIOP_Workshop.ipynb\" target=\"_parent\"><img src=\"https://colab.research.google.com/assets/colab-badge.svg\" alt=\"Open In Colab\"/></a>"
      ]
    },
    {
      "cell_type": "code",
      "execution_count": null,
      "metadata": {
        "id": "-GMPAmNtKXKP"
      },
      "outputs": [],
      "source": [
        "# load relivant packages\n",
        "!pip install -U sentence-transformers\n",
        "!pip install ipython-autotime"
      ]
    },
    {
      "cell_type": "code",
      "source": [
        "# bring in relivant models\n",
        "# explain models and model choice\n",
        "# print(pd.__version__)\n",
        "from sentence_transformers import SentenceTransformer, util\n",
        "import pandas as pd\n",
        "import numpy as np\n",
        "import pickle\n",
        "%load_ext autotime \n",
        "import time\n",
        "\n",
        "model = SentenceTransformer('paraphrase-MiniLM-L6-v2')"
      ],
      "metadata": {
        "colab": {
          "base_uri": "https://localhost:8080/"
        },
        "id": "Efgfg8TDKmo5",
        "outputId": "370f89ba-cd56-47f7-dc07-603d4f9f40a8"
      },
      "execution_count": 2,
      "outputs": [
        {
          "output_type": "stream",
          "name": "stdout",
          "text": [
            "time: 4.34 s (started: 2022-04-12 18:42:42 +00:00)\n"
          ]
        }
      ]
    },
    {
      "cell_type": "code",
      "source": [
        "job_dict = pd.read_pickle(r'/content/job_dict.pkl')"
      ],
      "metadata": {
        "colab": {
          "base_uri": "https://localhost:8080/"
        },
        "id": "7wsO1IBRNDvJ",
        "outputId": "b87cd042-a898-49f8-ae90-4963afd5747f"
      },
      "execution_count": 3,
      "outputs": [
        {
          "output_type": "stream",
          "name": "stdout",
          "text": [
            "time: 85.1 ms (started: 2022-04-12 18:42:47 +00:00)\n"
          ]
        }
      ]
    },
    {
      "cell_type": "code",
      "source": [
        "job_dict[\"df\"]"
      ],
      "metadata": {
        "colab": {
          "base_uri": "https://localhost:8080/"
        },
        "id": "n6RUoeEYD_1T",
        "outputId": "fdd6f994-4613-445a-afc6-290d7f79060e"
      },
      "execution_count": 23,
      "outputs": [
        {
          "output_type": "execute_result",
          "data": {
            "text/plain": [
              "0       Role: To assist members and potential members ...\n",
              "1       JOB FUNCTION / SUMMARY: A Multi-Service Banker...\n",
              "2       Job Summary At Blue Sky, we recognize the need...\n",
              "3       JOB DESCRIPTION Position: Store Manager Report...\n",
              "4       ALL APPLICATIONS MUST BE SUBMITTED ONLINE AT h...\n",
              "                              ...                        \n",
              "9995    Position Summary To perform an expanded clinic...\n",
              "9996    The Case Manager is responsible for complete c...\n",
              "9997    Job Title: Property Accountability & Materials...\n",
              "9998    The Mary S. Shook Student Health Service exist...\n",
              "9999    Our mission at the State of Connecticut, Depar...\n",
              "Name: job_description, Length: 10000, dtype: object"
            ]
          },
          "metadata": {},
          "execution_count": 23
        },
        {
          "output_type": "stream",
          "name": "stdout",
          "text": [
            "time: 5.72 ms (started: 2022-04-12 18:54:37 +00:00)\n"
          ]
        }
      ]
    },
    {
      "cell_type": "code",
      "source": [
        "job_titles = job_dict[\"df\"][\"job_title\"]"
      ],
      "metadata": {
        "colab": {
          "base_uri": "https://localhost:8080/"
        },
        "id": "5fi1S6akD_3p",
        "outputId": "4d91e377-3766-4063-bb06-22c3a2a86e45"
      },
      "execution_count": 5,
      "outputs": [
        {
          "output_type": "stream",
          "name": "stdout",
          "text": [
            "time: 2.56 ms (started: 2022-04-12 18:42:47 +00:00)\n"
          ]
        }
      ]
    },
    {
      "cell_type": "code",
      "source": [
        "job_titles"
      ],
      "metadata": {
        "colab": {
          "base_uri": "https://localhost:8080/"
        },
        "id": "raqy8HywUcpi",
        "outputId": "8f25acad-5db6-4f56-9520-869c3e6a0a6c"
      },
      "execution_count": 6,
      "outputs": [
        {
          "output_type": "execute_result",
          "data": {
            "text/plain": [
              "0                               Member Service Specialist\n",
              "1                           Floating Multi Service Banker\n",
              "2                           Sales Associate Blue Sky #711\n",
              "3                                           Store Manager\n",
              "4                                     Planning Technician\n",
              "                              ...                        \n",
              "9995    Nurse Practitioner - Dermatology (Mon-Fri) OUT...\n",
              "9996               Substance Abuse Treatment Case Manager\n",
              "9997                                    Supply Technician\n",
              "9998    Temporary PRN Nurse Practitioner/Physician Ass...\n",
              "9999           Clinical Social Worker Associate (35 Hour)\n",
              "Name: job_title, Length: 10000, dtype: object"
            ]
          },
          "metadata": {},
          "execution_count": 6
        },
        {
          "output_type": "stream",
          "name": "stdout",
          "text": [
            "time: 3.97 ms (started: 2022-04-12 18:42:47 +00:00)\n"
          ]
        }
      ]
    },
    {
      "cell_type": "markdown",
      "source": [
        "# New Section"
      ],
      "metadata": {
        "id": "FUM1KwjWWyRz"
      }
    },
    {
      "cell_type": "code",
      "source": [
        "# make embeddings of titles\n",
        "title_emb = model.encode(job_titles, show_progress_bar = True, convert_to_tensor=True)\n",
        "#without gpu and 100k this will take 30 min +, change runtime to gpu... will take 30 sec... "
      ],
      "metadata": {
        "colab": {
          "base_uri": "https://localhost:8080/",
          "height": 67,
          "referenced_widgets": [
            "42049395187342679e3bdb8b322b8f1b",
            "38f22e694f244a699becef8e35191d19",
            "6787250f1fc442f0846a027df78e3946",
            "ec24ae39d57c492c9d66f2fad0d4d0f2",
            "9f3adac1bd044235a923fb76793a34d0",
            "e30384a7d6d941078637df0d9115fe48",
            "d8561824525c42d28e9173b3db305ed8",
            "7031dc8ec0c94c689a45eec646d3f1ba",
            "24768c3d3a35458485bf54caf8a0e1ee",
            "eab1ff1b12a94cb89ba98b514ba8a84a",
            "24720c1651ff4f7bb2cfa1adf66e44dd"
          ]
        },
        "id": "wtuC92tvUcuw",
        "outputId": "3bbf725c-5554-4391-fb26-7dba02053b93"
      },
      "execution_count": 7,
      "outputs": [
        {
          "output_type": "display_data",
          "data": {
            "text/plain": [
              "Batches:   0%|          | 0/313 [00:00<?, ?it/s]"
            ],
            "application/vnd.jupyter.widget-view+json": {
              "version_major": 2,
              "version_minor": 0,
              "model_id": "42049395187342679e3bdb8b322b8f1b"
            }
          },
          "metadata": {}
        },
        {
          "output_type": "stream",
          "name": "stdout",
          "text": [
            "time: 12.5 s (started: 2022-04-12 18:42:47 +00:00)\n"
          ]
        }
      ]
    },
    {
      "cell_type": "code",
      "source": [
        "title_emb.shape"
      ],
      "metadata": {
        "colab": {
          "base_uri": "https://localhost:8080/"
        },
        "id": "IYl2iQ6uUa0E",
        "outputId": "c6dc1678-46fd-4680-f9e9-45403b51f955"
      },
      "execution_count": 8,
      "outputs": [
        {
          "output_type": "execute_result",
          "data": {
            "text/plain": [
              "torch.Size([10000, 384])"
            ]
          },
          "metadata": {},
          "execution_count": 8
        },
        {
          "output_type": "stream",
          "name": "stdout",
          "text": [
            "time: 2.93 ms (started: 2022-04-12 18:42:59 +00:00)\n"
          ]
        }
      ]
    },
    {
      "cell_type": "code",
      "source": [
        "title_emb"
      ],
      "metadata": {
        "colab": {
          "base_uri": "https://localhost:8080/"
        },
        "id": "L5qiReBTEm9e",
        "outputId": "7860f427-252f-4ff3-8cde-71a0e0878d51"
      },
      "execution_count": 9,
      "outputs": [
        {
          "output_type": "execute_result",
          "data": {
            "text/plain": [
              "tensor([[-0.4357, -0.4224, -0.2424,  ..., -0.3637,  0.1671,  0.4540],\n",
              "        [-0.3686, -0.6254, -0.7172,  ..., -0.4637,  0.3951, -0.2661],\n",
              "        [-0.2146, -0.4029,  0.1744,  ..., -0.7837, -0.7946,  0.3658],\n",
              "        ...,\n",
              "        [-0.9767, -0.3604, -0.1257,  ..., -0.7109,  0.7241,  0.0203],\n",
              "        [-0.5571, -0.1584,  0.0423,  ..., -0.0864, -0.2682,  0.5536],\n",
              "        [ 0.0519, -0.0374,  0.4928,  ..., -0.3209, -0.0911,  0.0488]],\n",
              "       device='cuda:0')"
            ]
          },
          "metadata": {},
          "execution_count": 9
        },
        {
          "output_type": "stream",
          "name": "stdout",
          "text": [
            "time: 26.2 ms (started: 2022-04-12 18:42:59 +00:00)\n"
          ]
        }
      ]
    },
    {
      "cell_type": "code",
      "source": [
        "cosine_scores = util.cos_sim(title_emb, title_emb)\n",
        "cosine_scores"
      ],
      "metadata": {
        "colab": {
          "base_uri": "https://localhost:8080/"
        },
        "id": "QZ61SPthXgA1",
        "outputId": "f1719947-bd0a-418a-e75a-2defe2888453"
      },
      "execution_count": 10,
      "outputs": [
        {
          "output_type": "execute_result",
          "data": {
            "text/plain": [
              "tensor([[1.0000, 0.3860, 0.3343,  ..., 0.4596, 0.3913, 0.4455],\n",
              "        [0.3860, 1.0000, 0.2354,  ..., 0.3855, 0.2120, 0.1656],\n",
              "        [0.3343, 0.2354, 1.0000,  ..., 0.2886, 0.1167, 0.3075],\n",
              "        ...,\n",
              "        [0.4596, 0.3855, 0.2886,  ..., 1.0000, 0.3372, 0.3713],\n",
              "        [0.3913, 0.2120, 0.1167,  ..., 0.3372, 1.0000, 0.4632],\n",
              "        [0.4455, 0.1656, 0.3075,  ..., 0.3713, 0.4632, 1.0000]],\n",
              "       device='cuda:0')"
            ]
          },
          "metadata": {},
          "execution_count": 10
        },
        {
          "output_type": "stream",
          "name": "stdout",
          "text": [
            "time: 18.5 ms (started: 2022-04-12 18:43:17 +00:00)\n"
          ]
        }
      ]
    },
    {
      "cell_type": "code",
      "source": [
        "# #Find the pairs with the highest cosine similarity scores\n",
        "# pairs = []\n",
        "# for i in range(len(cosine_scores)-1):\n",
        "#     for j in range(i+1, len(cosine_scores)):\n",
        "#         pairs.append({'index': [i, j], 'score': cosine_scores[i][j]})\n"
      ],
      "metadata": {
        "id": "Ru_FRatMXbKV"
      },
      "execution_count": null,
      "outputs": []
    },
    {
      "cell_type": "code",
      "source": [
        "#Sort scores in decreasing order\n",
        "#pairs = sorted(pairs, key=lambda x: x['score'], reverse=True)"
      ],
      "metadata": {
        "colab": {
          "base_uri": "https://localhost:8080/"
        },
        "id": "DhBoQ2FrXbSn",
        "outputId": "e9a71b49-94e0-46d8-c9b7-31bcf5c8a49f"
      },
      "execution_count": null,
      "outputs": [
        {
          "output_type": "stream",
          "name": "stdout",
          "text": [
            "time: 39.3 s (started: 2022-03-10 21:18:18 +00:00)\n"
          ]
        }
      ]
    },
    {
      "cell_type": "code",
      "source": [
        "# for pair in pairs[0:10]:\n",
        "#     i, j = pair['index']\n",
        "#     print(\"{} \\t\\t {} \\t\\t Score: {:.4f}\".format(title_emb[i], title_emb[j], pair['score']))"
      ],
      "metadata": {
        "colab": {
          "base_uri": "https://localhost:8080/"
        },
        "id": "cyCJTAKjXbU_",
        "outputId": "aeda351c-f913-4ef6-cc74-000d0746038e"
      },
      "execution_count": null,
      "outputs": [
        {
          "output_type": "stream",
          "name": "stdout",
          "text": [
            "recruiter \t\t recruiter \t\t Score: 1.0000\n",
            "recruiter \t\t recruiter \t\t Score: 1.0000\n",
            "recruiter \t\t recruiter \t\t Score: 1.0000\n",
            "recruiter \t\t recruiter \t\t Score: 1.0000\n",
            "recruiter \t\t recruiter \t\t Score: 1.0000\n",
            "recruiter \t\t recruiter \t\t Score: 1.0000\n",
            "pastry cook \t\t pastry cook \t\t Score: 1.0000\n",
            "front desk receptionist \t\t front desk receptionist \t\t Score: 1.0000\n",
            "retail sales associate \t\t retail sales associate \t\t Score: 1.0000\n",
            "retail sales associate \t\t retail sales associate \t\t Score: 1.0000\n",
            "time: 14.4 ms (started: 2022-03-10 21:18:58 +00:00)\n"
          ]
        }
      ]
    },
    {
      "cell_type": "code",
      "source": [
        "input_job_title = \"Jr. Java Script Developer\"\n",
        "input_embedding = model.encode(input_job_title, convert_to_tensor=True)"
      ],
      "metadata": {
        "colab": {
          "base_uri": "https://localhost:8080/"
        },
        "id": "yQeGzMJDXbaG",
        "outputId": "f44d39e7-7eda-4bfb-b814-6f2d9524f2c9"
      },
      "execution_count": 11,
      "outputs": [
        {
          "output_type": "stream",
          "name": "stdout",
          "text": [
            "time: 15 ms (started: 2022-04-12 18:43:45 +00:00)\n"
          ]
        }
      ]
    },
    {
      "cell_type": "code",
      "source": [
        "results = util.semantic_search(input_embedding, title_emb, top_k = 10)"
      ],
      "metadata": {
        "colab": {
          "base_uri": "https://localhost:8080/"
        },
        "id": "Ymzhs6wdXbcf",
        "outputId": "7b510e0d-4c77-460a-8153-541a892c4764"
      },
      "execution_count": 12,
      "outputs": [
        {
          "output_type": "stream",
          "name": "stdout",
          "text": [
            "time: 7.89 ms (started: 2022-04-12 18:43:48 +00:00)\n"
          ]
        }
      ]
    },
    {
      "cell_type": "code",
      "source": [
        "results"
      ],
      "metadata": {
        "colab": {
          "base_uri": "https://localhost:8080/"
        },
        "id": "g87dEn4BFtFU",
        "outputId": "51b4ed79-ff96-4235-83f5-492afa765c55"
      },
      "execution_count": 13,
      "outputs": [
        {
          "output_type": "execute_result",
          "data": {
            "text/plain": [
              "[[{'corpus_id': 8126, 'score': 0.8811661005020142},\n",
              "  {'corpus_id': 3703, 'score': 0.8493909239768982},\n",
              "  {'corpus_id': 2320, 'score': 0.8493907451629639},\n",
              "  {'corpus_id': 9425, 'score': 0.8493907451629639},\n",
              "  {'corpus_id': 8949, 'score': 0.8305301666259766},\n",
              "  {'corpus_id': 3717, 'score': 0.8197875618934631},\n",
              "  {'corpus_id': 418, 'score': 0.7895177006721497},\n",
              "  {'corpus_id': 4225, 'score': 0.785468578338623},\n",
              "  {'corpus_id': 8147, 'score': 0.7689410448074341},\n",
              "  {'corpus_id': 88, 'score': 0.7544420957565308}]]"
            ]
          },
          "metadata": {},
          "execution_count": 13
        },
        {
          "output_type": "stream",
          "name": "stdout",
          "text": [
            "time: 4.03 ms (started: 2022-04-12 18:44:00 +00:00)\n"
          ]
        }
      ]
    },
    {
      "cell_type": "code",
      "source": [
        "#results\n",
        "#results[0][0] # first one is first seach, second one is the first dictionary... \n",
        "#results[0][0]['corpus_id'] #gets index"
      ],
      "metadata": {
        "colab": {
          "base_uri": "https://localhost:8080/"
        },
        "id": "qWxvkeqmXbhQ",
        "outputId": "053ed05c-861b-4954-a2d4-012a779243e4"
      },
      "execution_count": null,
      "outputs": [
        {
          "output_type": "execute_result",
          "data": {
            "text/plain": [
              "{'corpus_id': 71322, 'score': 0.9147287011146545}"
            ]
          },
          "metadata": {},
          "execution_count": 85
        },
        {
          "output_type": "stream",
          "name": "stdout",
          "text": [
            "time: 3.17 ms (started: 2022-03-10 20:45:35 +00:00)\n"
          ]
        }
      ]
    },
    {
      "cell_type": "code",
      "source": [
        "results"
      ],
      "metadata": {
        "colab": {
          "base_uri": "https://localhost:8080/"
        },
        "id": "McAigodPF5GD",
        "outputId": "3b4993e3-486a-40f1-ad39-76f8b27655b6"
      },
      "execution_count": 16,
      "outputs": [
        {
          "output_type": "execute_result",
          "data": {
            "text/plain": [
              "[[{'corpus_id': 8126, 'score': 0.8811661005020142},\n",
              "  {'corpus_id': 3703, 'score': 0.8493909239768982},\n",
              "  {'corpus_id': 2320, 'score': 0.8493907451629639},\n",
              "  {'corpus_id': 9425, 'score': 0.8493907451629639},\n",
              "  {'corpus_id': 8949, 'score': 0.8305301666259766},\n",
              "  {'corpus_id': 3717, 'score': 0.8197875618934631},\n",
              "  {'corpus_id': 418, 'score': 0.7895177006721497},\n",
              "  {'corpus_id': 4225, 'score': 0.785468578338623},\n",
              "  {'corpus_id': 8147, 'score': 0.7689410448074341},\n",
              "  {'corpus_id': 88, 'score': 0.7544420957565308}]]"
            ]
          },
          "metadata": {},
          "execution_count": 16
        },
        {
          "output_type": "stream",
          "name": "stdout",
          "text": [
            "time: 3.26 ms (started: 2022-04-12 18:45:22 +00:00)\n"
          ]
        }
      ]
    },
    {
      "cell_type": "code",
      "source": [
        "results[0][0]['corpus_id']"
      ],
      "metadata": {
        "colab": {
          "base_uri": "https://localhost:8080/"
        },
        "id": "FyKHXVrWGEtc",
        "outputId": "1d70f949-5025-4a84-d93a-aa41893a9d47"
      },
      "execution_count": 19,
      "outputs": [
        {
          "output_type": "execute_result",
          "data": {
            "text/plain": [
              "8126"
            ]
          },
          "metadata": {},
          "execution_count": 19
        },
        {
          "output_type": "stream",
          "name": "stdout",
          "text": [
            "time: 4.77 ms (started: 2022-04-12 18:46:07 +00:00)\n"
          ]
        }
      ]
    },
    {
      "cell_type": "code",
      "source": [
        "title_emb"
      ],
      "metadata": {
        "colab": {
          "base_uri": "https://localhost:8080/"
        },
        "id": "PlQHutuKGEvt",
        "outputId": "21c715e0-11ef-46cf-9676-79d149c84ca8"
      },
      "execution_count": 20,
      "outputs": [
        {
          "output_type": "execute_result",
          "data": {
            "text/plain": [
              "tensor([[-0.4357, -0.4224, -0.2424,  ..., -0.3637,  0.1671,  0.4540],\n",
              "        [-0.3686, -0.6254, -0.7172,  ..., -0.4637,  0.3951, -0.2661],\n",
              "        [-0.2146, -0.4029,  0.1744,  ..., -0.7837, -0.7946,  0.3658],\n",
              "        ...,\n",
              "        [-0.9767, -0.3604, -0.1257,  ..., -0.7109,  0.7241,  0.0203],\n",
              "        [-0.5571, -0.1584,  0.0423,  ..., -0.0864, -0.2682,  0.5536],\n",
              "        [ 0.0519, -0.0374,  0.4928,  ..., -0.3209, -0.0911,  0.0488]],\n",
              "       device='cuda:0')"
            ]
          },
          "metadata": {},
          "execution_count": 20
        },
        {
          "output_type": "stream",
          "name": "stdout",
          "text": [
            "time: 8.67 ms (started: 2022-04-12 18:46:19 +00:00)\n"
          ]
        }
      ]
    },
    {
      "cell_type": "code",
      "source": [
        "print(title_emb[results[0][i]['corpus_id']]) "
      ],
      "metadata": {
        "id": "8FjpbCyjF5Ic"
      },
      "execution_count": null,
      "outputs": []
    },
    {
      "cell_type": "code",
      "source": [
        "for i in range(0, len(results[0])):\n",
        "  print(job_titles[results[0][i]['corpus_id']]) "
      ],
      "metadata": {
        "colab": {
          "base_uri": "https://localhost:8080/"
        },
        "id": "R_YADrUmi9MH",
        "outputId": "c5b26240-acae-4add-8e06-6110571ed23b"
      },
      "execution_count": 22,
      "outputs": [
        {
          "output_type": "stream",
          "name": "stdout",
          "text": [
            "Sr. Java Developer\n",
            "Java Developer\n",
            "Java Developer\n",
            "Java Developer\n",
            "Java-Developer\n",
            "Junior Java Developer\n",
            "Application Programmer/Developer (Java)\n",
            "Sr. Java Developer/Application Systems Engineer 5\n",
            "Sr. Java Software Engineer\n",
            "Java Developer (Full-Stack)\n",
            "time: 1.51 ms (started: 2022-04-12 18:47:38 +00:00)\n"
          ]
        }
      ]
    },
    {
      "cell_type": "code",
      "source": [
        "def job_search(input_text, how_many_results = 2):\n",
        "    input_embedding = model.encode(input_text, convert_to_tensor=True)\n",
        "    results = util.semantic_search(input_embedding, title_emb, top_k = how_many_results)\n",
        "    \n",
        "    for i in range(0, len(results[0])):\n",
        "        print(job_titles[results[0][i]['corpus_id']])\n",
        "        print(job_dict[\"df\"][\"job_description\"][results[0][i]['corpus_id']])\n",
        "\n",
        "    \n"
      ],
      "metadata": {
        "colab": {
          "base_uri": "https://localhost:8080/"
        },
        "id": "HsiDl-FfGzeF",
        "outputId": "e80b757b-309b-4f6f-c029-457101546c23"
      },
      "execution_count": 32,
      "outputs": [
        {
          "output_type": "stream",
          "name": "stdout",
          "text": [
            "time: 4.85 ms (started: 2022-04-12 18:58:00 +00:00)\n"
          ]
        }
      ]
    },
    {
      "cell_type": "code",
      "source": [
        "job_search(\"data scientist\", 3)"
      ],
      "metadata": {
        "colab": {
          "base_uri": "https://localhost:8080/"
        },
        "id": "5GI9awW6Gzgb",
        "outputId": "7ae14f11-55ba-424a-c4c5-3eb39ea8271b"
      },
      "execution_count": 36,
      "outputs": [
        {
          "output_type": "stream",
          "name": "stdout",
          "text": [
            "Data Scientist\n",
            "As a BI/Analytics Developer you will apply your skills and experience in the creation of business intelligence analytics tools on various BI/Analytics platforms(PowerBI, Tableau, Quick sight) for data analysis, dashboarding and reporting of our business data insights. Design and develop data graphs, charts, reports and visualizations that create agent and broker consumable data features. The successful candidate will develop analytic products, metrics and dashboards along the entire development lifecycle, from consulting with end users to capture business needs and processes, designing metrics and tools to optimize presentation, through defining functional requirements and coding, testing, deploying, documenting and maintaining those tools. The BI/Analytics Developer will utilize a full understanding of industry practices, standards and procedures for business intelligence analytics projects. This role will be tasked with resolving a wide range of issues, and will be expected to demonstrate competency in selecting tools, methods and techniques to optimize results. Minimum Qualifications: Bachelors of Computer Science, or Machine Learning. · Deep knowledge of computational complexity theory, capable to code time and space efficient algorithms with good scalability. This skill is required due to the familiarity with computer science fundamentals, algorithms and data structures required to be successful in this role Ability to understand and mathematically model practical problems within real estate and/or eCommerce domains Self-starter with outstanding attention to detail, and problem-solving ability Strong oral and written communication skills Highly organized, ability to stay on track, and meet deadlines in a fast-paced work environment ELT/ETL experience Experience with enterprise level RDMS, SQL fluency Programming/Scripting (Python, R, Scala) Data analytics experience Preferred Qualifications Prior cloud application experience Statistical data analysis and modelling Data Science experience or coursework Visualization tools such as Tableau or Power BI Responsibilities Distribution: (30%) Standardized and ad hoc Dashboards (30%) Standardized and ad hoc Reports (10%) Data Analysis (20%) Data Modeling (10%) Data Visualization and Design #LI-KD1\n",
            "Data Scientist\n",
            "Data Scientist - (SO00065529-1-1-1) UST Global is a private high growth organization headquartered in Orange County California and is a leading provider of Advanced Computing and Digital Services for Global 1000 companies worldwide. Our next-generation digital consultancy is the ideal place for you to grow your career. Are you up for the challenge? Read on! Description Data Engineer Description UST Global is looking for Data Engineer to build end to end business solutions and to work with one of the leading healthcare providers in US. The ideal candidate must possess excellent background on Kafka. The candidate must possess excellent written and verbal communication skills with the ability and collaborate effectively with domain and technical experts in the team Requirements Big data engineering skills 5 years of hands on experience in one or more modern Object Oriented Programming languages Java, Scala, Python including the ability to code in more than one programming language. 5 years of hands on experience applying principles, best practices, and trade offs of schema design to different database systems, including relational Oracle, MSSQL, Postgres, MySQL and NoSQL HBase, Cassandra, MongoDB 2 years of hands on experience implementing batch and real time data integration frameworks and or applications in private or public cloud environments AWS, Azure, GCP, etc. using various technologies Hadoop, Spark, Impala, etc. , including assessing performance, debugging, and fine tuning those systems Deep understanding of the latest data science and data engineering methods and processes to develop impactful and reusable patterns and abstractions from enterprise level data assets 3 years of hands on experience in all phases of data modeling from conceptualization to database optimization Demonstrated ability to perform the engineering necessary to acquire, ingest, cleanse, integrate, and structure massive volumes of data from multiple sources and systems into enterprise analytics platforms Proven ability to design and optimize queries to build scalable, modular, efficient data pipelines Ability to work across structured, semi structured, and unstructured data, extracting information and identifying linkages across disparate data sets Proven experience delivering production ready data engineering solutions, including requirements definition, architecture selection, prototype development, debugging, unit testing, deployment, support, and maintenance Ability to operate with a variety of data engineering tools and technologies vendor agnostic candidates preferred Domain and industry knowledge Strong collaboration and communication skills to work within and across technology teams and business units Demonstrates the curiosity, interpersonal abilities, and organizational skills necessary to serve as a consulting partner, includes the ability to uncover, understand, and assess the needs of various business stakeholders Experience with problem discovery, solution design, and insight delivery that involves frequent interaction, education, engagement, and evangelism with senior executives Ideal candidate will have extensive experience with the creation and delivery of advanced analytics solutions for healthcare payers or insurance companies, including anomaly detection, provider optimization, studies of sources of fraud, waste, and abuse, and analysis of clinical and economic outcomes of treatment and wellness programs involving medical or pharmacy claims data, electronic medical record data, or other health data Experience with healthcare providers, pharma, or life sciences is a plus Experience with Kafka is required Responsibilities Data engineering services required Build data products and processes alongside the core engineering and technology team Collaborate with senior data scientists to curate, wrangle, and prepare data for use in their advanced analytical models Integrate data from a variety of sources, assuring that they adhere to data quality and accessibility standards Modify and improve data engineering processes to handle ever larger, more complex, and more types of data sources and pipelines Use Hadoop architecture and HDFS commands to design and optimize data queries at scale Evaluate and experiment with novel data engineering tools and advises information technology leads and partners about new capabilities to determine optimal solutions for particular technical problems or designated use cases Location This position is based in Atlanta, GA Chicago, IL Chandler AZ Richmond VA Norfork VA Mason OH Work from home in any of the above mentioned locations is acceptable but not preferred. UST will provide relocation assistance for full time employment. Qualifications BTECH or higher Primary Location: US-GA-Atlanta Employee Type: Regular Employee Job Type: Full-time Job Posting: Mar 17, 2020, 3:50:49 PM UST-Global is an Equal Opportunity Employer\n",
            "Data Scientist Intern\n",
            "The Role -------------- Our Systems team is responsible for tying together the concurrent engineering efforts at Span into a product that works reliably and well. We treat product reliability as an engineering problem, so the Systems team combines systems integration with internal infrastructure such as automated functional test and data analysis pipelines. As an intern on the systems engineering team over summer 2020, you'll be an integral part of our first product roll-out as well as develop features for the next generation of products. The role will give you a board exposure to many aspects of data science: we'll expect you to do a mix of data analysis, model development, and data collection. Responsibilities Conduct literature analysis, validate findings and design machine learning models Implement and test features using field measurements Collect, analyze and clean data sets Collaborate with other engineers on projects to seamlessly build a cohesive product Be ready to pitch in on projects outside of your backend subject area, when needed Potential Projects Development of algorithms to detect appliances on a circuit Diagnose an urgent issue in the field by running data analysis against fleet telemetry Improvement of consumption/solar forecast algorithms As we are a startup, this list should be considered neither exhaustive nor complete. We're excited for people to explore responsibilities outside their normal areas of expertise if the need or interest arises! About You --------------- We're looking for interns with enough experience in data science to be able to jump in and participate off the bat. That said, you should expect to learn a lot over the summer! We're especially interested in candidates who are self-motivated, quick learners, and who like being part of a fast-moving team. Required Qualifications Pursuing a degree in computer science, applied mathematics, statistics, or equivalent fields Strong understanding of most common machine learning techniques and their application Comfortable with the analysis of large data sets Experience using Python or R Bonus Qualifications Experience in cloud computing platforms (e.g. AWS) Cool projects or coursework in data science / data analytics Statistics Life at Span ------------ Span is a startup based in the SOMA neighborhood of San Francisco. We are a small, diverse team of creative thinkers. We value open communication, teamwork, and a make-it-happen attitude - no job is too big or too small. We strive to create change by imagining what the future could be and building a product to complete that vision. We are looking to grow our team with talented people who are on the same mission to shape the future of energy. Impacting the future as a small, agile team means putting in a lot of hard work and elbow grease so we work to make sure you are happy, healthy, and look forward to coming to work. Working at Span, you can expect: Competitive compensation Sunny, airy office located close to public transportation BART and Caltrain Regular team lunches, brown bag learning opportunities and events Opportunity to influence our culture Span embraces diversity and equal opportunity in a serious way. We are committed to building a team that represents a variety of backgrounds, perspectives, and skills. The more inclusive we are, the better our work will be.\n",
            "time: 13.3 ms (started: 2022-04-12 19:00:50 +00:00)\n"
          ]
        }
      ]
    }
  ]
}